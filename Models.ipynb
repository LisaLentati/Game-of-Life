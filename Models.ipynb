{
 "cells": [
  {
   "cell_type": "code",
   "execution_count": 1,
   "metadata": {},
   "outputs": [],
   "source": [
    "import tensorflow as tf\n",
    "from tensorflow import keras\n",
    "\n",
    "import numpy as np\n",
    "from scipy.signal import convolve2d"
   ]
  },
  {
   "cell_type": "code",
   "execution_count": null,
   "metadata": {},
   "outputs": [],
   "source": [
    "tf.keras.layers.LocallyConnected2D(\n",
    "    filters, kernel_size, strides=(1, 1), padding='valid', data_format=None,\n",
    "    activation=None, use_bias=True, kernel_initializer='glorot_uniform',\n",
    "    bias_initializer='zeros', kernel_regularizer=None, bias_regularizer=None,\n",
    "    activity_regularizer=None, kernel_constraint=None, bias_constraint=None,\n",
    "    implementation=1, **kwargs\n"
   ]
  },
  {
   "cell_type": "code",
   "execution_count": 4,
   "metadata": {},
   "outputs": [],
   "source": []
  },
  {
   "cell_type": "code",
   "execution_count": 12,
   "metadata": {},
   "outputs": [],
   "source": [
    "class MyShittyModel(tf.keras.Model):\n",
    "    def __init__(self, grid_size):\n",
    "        super(MyShittyModel, self).__init__()\n",
    "        self.d1 = grid_size[0]\n",
    "        self.d2 = grid_size[1]\n",
    "\n",
    "        # self.kernel = tf.ones(shape=(3, 3, 1, 1), dtype=\"float32\")\n",
    "        # self.kernel2 = tf.Variable(tf.ones(shape=(3, 3, 1, 1), dtype=\"float32\"),  trainable=False, validate_shape=True)\n",
    "        # self.kernel2[1, 1, : ,:].assign(tf.constant(0., shape=(1,1)))\n",
    "        # self.conv2d = Conv2D(kernel=self.kernel)\n",
    "        # self.conv2d_no_centre = Conv2D(kernel = self.kernel2)\n",
    "\n",
    "        self.padding = CyclicPadding2D()\n",
    "        # self.add_dim = tf.keras.layers.Reshape(target_shape=(self.d1 + 2, self.d2+2,1))\n",
    "        # self.reduce_dim = tf.keras.layers.Reshape(target_shape=(self.d1, self.d2))\n",
    "        self.locally_dense1 = LocallyDense()\n",
    "        self.locally_dense2 = LocallyDense()\n",
    "        self.locally_dense3 = LocallyDense()\n",
    "        # self.weighted_sum_2D = MultiplyLayer()\n",
    "        \n",
    "    def call(self, x):\n",
    "        x = self.padding(x)\n",
    "        x = self.locally_dense1(x)\n",
    "        x = tf.keras.activations.relu(x)\n",
    "        x = self.padding(x)\n",
    "        x = self.locally_dense2(x)\n",
    "        x = tf.keras.activations.relu(x)\n",
    "        x = self.padding(x)\n",
    "        x = self.locally_dense3(x)\n",
    "        x = tf.keras.activations.sigmoid(x)\n",
    "        return x"
   ]
  },
  {
   "cell_type": "code",
   "execution_count": 14,
   "metadata": {},
   "outputs": [],
   "source": [
    "game = MyShittyModel(grid_size = (6,6))\n",
    "game.compile(loss=tf.keras.losses.BinaryCrossentropy(), optimizer=keras.optimizers.Adam(),\n",
    "    metrics=[\"accuracy\"])\n",
    "input_layer = keras.layers.Input(shape=(6, 6), name='input_layer', batch_size=32)"
   ]
  },
  {
   "cell_type": "code",
   "execution_count": null,
   "metadata": {},
   "outputs": [],
   "source": [
    "tf.keras.layers.LocallyConnected2D(\n",
    "    filters, kernel_size, strides=(1, 1), padding='valid', data_format=None,\n",
    "    activation=None, use_bias=True, kernel_initializer='glorot_uniform',\n",
    "    bias_initializer='zeros', kernel_regularizer=None, bias_regularizer=None,\n",
    "    activity_regularizer=None, kernel_constraint=None, bias_constraint=None,\n",
    "    implementation=1, **kwargs\n",
    ")"
   ]
  },
  {
   "cell_type": "code",
   "execution_count": null,
   "metadata": {},
   "outputs": [],
   "source": []
  }
 ],
 "metadata": {
  "kernelspec": {
   "display_name": "Python 3.7.6 64-bit ('tensorflow_env': conda)",
   "language": "python",
   "name": "python_defaultSpec_1601723038967"
  },
  "language_info": {
   "codemirror_mode": {
    "name": "ipython",
    "version": 3
   },
   "file_extension": ".py",
   "mimetype": "text/x-python",
   "name": "python",
   "nbconvert_exporter": "python",
   "pygments_lexer": "ipython3",
   "version": "3.7.6-final"
  }
 },
 "nbformat": 4,
 "nbformat_minor": 4
}