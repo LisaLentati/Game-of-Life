{
 "cells": [
  {
   "cell_type": "code",
   "execution_count": 1,
   "metadata": {},
   "outputs": [],
   "source": [
    "import tensorflow as tf\n",
    "from tensorflow import keras\n",
    "\n",
    "import numpy as np\n",
    "from scipy.signal import convolve2d"
   ]
  },
  {
   "cell_type": "code",
   "execution_count": 2,
   "metadata": {},
   "outputs": [],
   "source": [
    "class CyclicPadding2D(keras.layers.Layer):\n",
    "\n",
    "    def __init__(self,):\n",
    "        super(CyclicPadding2D, self).__init__()\n",
    "\n",
    "    def build(self, input_shape):\n",
    "        self.grid = tf.Variable(tf.zeros(shape=(input_shape[0], input_shape[1]+2, input_shape[2]+2), dtype=tf.float32), \n",
    "                        trainable=False, validate_shape=True)\n",
    "        super(CyclicPadding2D, self).build(input_shape)  \n",
    "\n",
    "    def call(self, inputs):\n",
    "        \n",
    "        self.grid[:,1:-1, 1:-1].assign(inputs)\n",
    "        self.grid[:,0,0].assign(inputs[:,-1,-1])\n",
    "        self.grid[:,0,-1].assign( inputs[:,-1,0])\n",
    "        self.grid[:,-1,0].assign(inputs[:,0,-1])\n",
    "        self.grid[:,-1,-1].assign(inputs[:,0,0])\n",
    "        self.grid[:, 1:-1, 0].assign(inputs[:,:,-1])\n",
    "        self.grid[:,1 : -1 , -1].assign(inputs[:,:, 0])\n",
    "\n",
    "        self.grid[:,0, 1:-1].assign(inputs[:,-1,:])\n",
    "        self.grid[:,-1, 1:-1].assign(inputs[:,0,:])\n",
    "        return self.grid"
   ]
  },
  {
   "cell_type": "code",
   "execution_count": 3,
   "metadata": {},
   "outputs": [],
   "source": [
    "class MakeBinary(keras.layers.Layer):\n",
    "    def __init__(self,):\n",
    "        super(MakeBinary, self).__init__()\n",
    "        \n",
    "    def build(self, input_shape):\n",
    "        self.B = self.add_weight(name=\"B\", shape=(), initializer=\"zeros\", trainable=True)\n",
    "        \n",
    "    def call(self, input_grid):\n",
    "        input_grid = input_grid - self.B\n",
    "        input_grid = input_grid > 0.5\n",
    "        return tf.cast(input_grid, dtype=\"float32\")"
   ]
  },
  {
   "cell_type": "code",
   "execution_count": 4,
   "metadata": {},
   "outputs": [],
   "source": [
    "class Conv2D(keras.layers.Layer):\n",
    "    \n",
    "    def __init__(self,kernel):\n",
    "        super(Conv2D, self).__init__()\n",
    "        self.kernel = kernel \n",
    "        \n",
    "    def call(self, x):\n",
    "        print(x.shape)\n",
    "        x = tf.nn.conv2d(x, self.kernel, strides=1, padding='VALID')\n",
    "        return x"
   ]
  },
  {
   "cell_type": "code",
   "execution_count": 5,
   "metadata": {},
   "outputs": [],
   "source": [
    "class MultiplyLayer(keras.layers.Layer):\n",
    "    def __init__(self, ):\n",
    "        super(MultiplyLayer, self).__init__()\n",
    "    def build(self, input_shape):\n",
    "        input_shape = input_shape[0]\n",
    "        self.w1 = self.add_weight(name=\"w1\", shape=(input_shape[-2], input_shape[-1]), initializer=\"ones\", trainable=True)\n",
    "        self.w2 = self.add_weight(name=\"w2\", shape=(input_shape[-2], input_shape[-1]), initializer=\"ones\", trainable=True)\n",
    "        self.b = self.add_weight(name=\"b\", shape=(input_shape[-2], input_shape[-1]), initializer='zeros', trainable=True)\n",
    "    def call(self, inputs):\n",
    "        input_1 = inputs[0]\n",
    "        input_2 = inputs[1]\n",
    "        return tf.matmul(input_1, self.w1) + tf.matmul(input_2, self.w2) + self.b"
   ]
  },
  {
   "cell_type": "code",
   "execution_count": 6,
   "metadata": {},
   "outputs": [],
   "source": [
    "class LocallyDense(keras.layers.Layer):\n",
    "    def __init__(self, ):\n",
    "        super(LocallyDense, self).__init__()\n",
    "        \n",
    "\n",
    "    def build(self, input_shape):\n",
    "        m = input_shape[-2] - 2\n",
    "        n = input_shape[-1] - 2\n",
    "        self.w00 = self.add_weight(name=\"w00\", shape=(m,n), initializer=\"ones\", trainable=True)\n",
    "        self.w01 = self.add_weight(name=\"w01\", shape=(m,n), initializer=\"ones\", trainable=True)\n",
    "        self.w02 = self.add_weight(name=\"w02\", shape=(m,n), initializer=\"ones\", trainable=True)\n",
    "        self.w10 = self.add_weight(name=\"w10\", shape=(m,n), initializer=\"ones\", trainable=True)\n",
    "        self.w11 = self.add_weight(name=\"w11\", shape=(m,n), initializer=\"ones\", trainable=True)\n",
    "        self.w12 = self.add_weight(name=\"w12\", shape=(m,n), initializer=\"ones\", trainable=True)\n",
    "        self.w20 = self.add_weight(name=\"w20\", shape=(m,n), initializer=\"ones\", trainable=True)\n",
    "        self.w21 = self.add_weight(name=\"w21\", shape=(m,n), initializer=\"ones\", trainable=True)\n",
    "        self.w22 = self.add_weight(name=\"w22\", shape=(m,n), initializer=\"ones\", trainable=True)\n",
    "        self.b = self.add_weight(name=\"b\", shape=(m,n), initializer='zeros', trainable=True)\n",
    "\n",
    "    def call(self, padded_input):\n",
    "        p00 = padded_input[:,:-2,:-2]\n",
    "        p01 = padded_input[:,:-2,1:-1]\n",
    "        p02 = padded_input[:,:-2,2:]\n",
    "        p10 = padded_input[:,1:-1,:-2]\n",
    "        p11 = padded_input[:,1:-1,1:-1]\n",
    "        p12 = padded_input[:,1:-1,2:]\n",
    "        p20 = padded_input[:,2:,:-2]\n",
    "        p21 = padded_input[:,2:,1:-1]\n",
    "        p22 = padded_input[:,2:,2:]\n",
    "        \n",
    "        return tf.matmul(p00, self.w00) + tf.matmul(p01, self.w01) + tf.matmul(p02, self.w02) + tf.matmul(p10, self.w10) + tf.matmul(p11, self.w11) + tf.matmul(p12, self.w12) + tf.matmul(p20, self.w20) + tf.matmul(p21, self.w21) + tf.matmul(p22, self.w22) + self.b"
   ]
  },
  {
   "cell_type": "code",
   "execution_count": 12,
   "metadata": {},
   "outputs": [],
   "source": [
    "class MyShittyModel(tf.keras.Model):\n",
    "    def __init__(self, grid_size):\n",
    "        super(MyShittyModel, self).__init__()\n",
    "        self.d1 = grid_size[0]\n",
    "        self.d2 = grid_size[1]\n",
    "\n",
    "        # self.kernel = tf.ones(shape=(3, 3, 1, 1), dtype=\"float32\")\n",
    "        # self.kernel2 = tf.Variable(tf.ones(shape=(3, 3, 1, 1), dtype=\"float32\"),  trainable=False, validate_shape=True)\n",
    "        # self.kernel2[1, 1, : ,:].assign(tf.constant(0., shape=(1,1)))\n",
    "        # self.conv2d = Conv2D(kernel=self.kernel)\n",
    "        # self.conv2d_no_centre = Conv2D(kernel = self.kernel2)\n",
    "\n",
    "        self.padding = CyclicPadding2D()\n",
    "        # self.add_dim = tf.keras.layers.Reshape(target_shape=(self.d1 + 2, self.d2+2,1))\n",
    "        # self.reduce_dim = tf.keras.layers.Reshape(target_shape=(self.d1, self.d2))\n",
    "        self.locally_dense1 = LocallyDense()\n",
    "        self.locally_dense2 = LocallyDense()\n",
    "        self.locally_dense3 = LocallyDense()\n",
    "        # self.weighted_sum_2D = MultiplyLayer()\n",
    "        \n",
    "    def call(self, x):\n",
    "        x = self.padding(x)\n",
    "        x = self.locally_dense1(x)\n",
    "        x = tf.keras.activations.relu(x)\n",
    "        x = self.padding(x)\n",
    "        x = self.locally_dense2(x)\n",
    "        x = tf.keras.activations.relu(x)\n",
    "        x = self.padding(x)\n",
    "        x = self.locally_dense3(x)\n",
    "        x = tf.keras.activations.sigmoid(x)\n",
    "        return x"
   ]
  },
  {
   "cell_type": "code",
   "execution_count": 13,
   "metadata": {},
   "outputs": [],
   "source": [
    "def life_step(X):\n",
    "    nbrs_count = convolve2d(X, np.ones((3, 3)), mode='same', boundary='wrap') - X\n",
    "    return (nbrs_count == 3) | (X & (nbrs_count == 2))\n",
    "\n",
    "sample_input = []\n",
    "sample_output = []\n",
    "probs = np.random.uniform(0.2, 0.99, 1000)\n",
    "for prob in probs:\n",
    "    grid = np.random.binomial(n=1,p=prob, size=(6,6))\n",
    "    for _ in range(2):\n",
    "        grid = life_step(grid)\n",
    "    \n",
    "    grid_1_step_more = life_step(grid)\n",
    "    if grid.sum() > 0:\n",
    "        sample_input.append(grid)\n",
    "        sample_output.append(grid_1_step_more)\n",
    "sample_x = tf.constant(np.array(sample_input).astype(float), shape= [len(sample_input),6,6], dtype=\"float32\")\n",
    "sample_y = tf.constant(np.array(sample_output).astype(float), shape= [len(sample_input),6,6], dtype=\"float32\")"
   ]
  },
  {
   "cell_type": "code",
   "execution_count": 14,
   "metadata": {},
   "outputs": [],
   "source": [
    "game = MyShittyModel(grid_size = (6,6))\n",
    "game.compile(loss=tf.keras.losses.BinaryCrossentropy(), optimizer=keras.optimizers.Adam(),\n",
    "    metrics=[\"accuracy\"])\n",
    "input_layer = keras.layers.Input(shape=(6, 6), name='input_layer', batch_size=32)"
   ]
  },
  {
   "cell_type": "code",
   "execution_count": 15,
   "metadata": {},
   "outputs": [
    {
     "data": {
      "text/plain": [
       "<tf.Tensor 'my_shitty_model_1/Identity:0' shape=(32, 6, 6) dtype=float32>"
      ]
     },
     "execution_count": 15,
     "metadata": {},
     "output_type": "execute_result"
    }
   ],
   "source": [
    "game(input_layer)"
   ]
  },
  {
   "cell_type": "code",
   "execution_count": null,
   "metadata": {},
   "outputs": [],
   "source": [
    "tf.keras.layers.LocallyConnected2D(\n",
    "    filters, kernel_size, strides=(1, 1), padding='valid', data_format=None,\n",
    "    activation=None, use_bias=True, kernel_initializer='glorot_uniform',\n",
    "    bias_initializer='zeros', kernel_regularizer=None, bias_regularizer=None,\n",
    "    activity_regularizer=None, kernel_constraint=None, bias_constraint=None,\n",
    "    implementation=1, **kwargs\n",
    ")"
   ]
  },
  {
   "cell_type": "code",
   "execution_count": 16,
   "metadata": {},
   "outputs": [
    {
     "name": "stdout",
     "output_type": "stream",
     "text": [
      "Train on 32 samples\n",
      "WARNING:tensorflow:Gradients do not exist for variables ['my_shitty_model_1/locally_dense_3/w00:0', 'my_shitty_model_1/locally_dense_3/w01:0', 'my_shitty_model_1/locally_dense_3/w02:0', 'my_shitty_model_1/locally_dense_3/w10:0', 'my_shitty_model_1/locally_dense_3/w11:0', 'my_shitty_model_1/locally_dense_3/w12:0', 'my_shitty_model_1/locally_dense_3/w20:0', 'my_shitty_model_1/locally_dense_3/w21:0', 'my_shitty_model_1/locally_dense_3/w22:0', 'my_shitty_model_1/locally_dense_3/b:0', 'my_shitty_model_1/locally_dense_4/w00:0', 'my_shitty_model_1/locally_dense_4/w01:0', 'my_shitty_model_1/locally_dense_4/w02:0', 'my_shitty_model_1/locally_dense_4/w10:0', 'my_shitty_model_1/locally_dense_4/w11:0', 'my_shitty_model_1/locally_dense_4/w12:0', 'my_shitty_model_1/locally_dense_4/w20:0', 'my_shitty_model_1/locally_dense_4/w21:0', 'my_shitty_model_1/locally_dense_4/w22:0', 'my_shitty_model_1/locally_dense_4/b:0'] when minimizing the loss.\n",
      "WARNING:tensorflow:Gradients do not exist for variables ['my_shitty_model_1/locally_dense_3/w00:0', 'my_shitty_model_1/locally_dense_3/w01:0', 'my_shitty_model_1/locally_dense_3/w02:0', 'my_shitty_model_1/locally_dense_3/w10:0', 'my_shitty_model_1/locally_dense_3/w11:0', 'my_shitty_model_1/locally_dense_3/w12:0', 'my_shitty_model_1/locally_dense_3/w20:0', 'my_shitty_model_1/locally_dense_3/w21:0', 'my_shitty_model_1/locally_dense_3/w22:0', 'my_shitty_model_1/locally_dense_3/b:0', 'my_shitty_model_1/locally_dense_4/w00:0', 'my_shitty_model_1/locally_dense_4/w01:0', 'my_shitty_model_1/locally_dense_4/w02:0', 'my_shitty_model_1/locally_dense_4/w10:0', 'my_shitty_model_1/locally_dense_4/w11:0', 'my_shitty_model_1/locally_dense_4/w12:0', 'my_shitty_model_1/locally_dense_4/w20:0', 'my_shitty_model_1/locally_dense_4/w21:0', 'my_shitty_model_1/locally_dense_4/w22:0', 'my_shitty_model_1/locally_dense_4/b:0'] when minimizing the loss.\n",
      "32/32 [==============================] - 2s 77ms/sample - loss: 26854.8750 - accuracy: 0.2847\n",
      "Train on 32 samples\n",
      "32/32 [==============================] - 0s 377us/sample - loss: 29266.5469 - accuracy: 0.2622\n",
      "Train on 32 samples\n",
      "32/32 [==============================] - 0s 263us/sample - loss: 25676.1406 - accuracy: 0.2543\n",
      "Train on 32 samples\n",
      "32/32 [==============================] - 0s 282us/sample - loss: 26778.5801 - accuracy: 0.2561\n",
      "Train on 32 samples\n",
      "32/32 [==============================] - 0s 397us/sample - loss: 26525.7656 - accuracy: 0.2109\n",
      "Train on 32 samples\n",
      "32/32 [==============================] - 0s 503us/sample - loss: 30211.6973 - accuracy: 0.2378\n",
      "Train on 32 samples\n",
      "32/32 [==============================] - 0s 283us/sample - loss: 28670.8223 - accuracy: 0.2734\n",
      "Train on 32 samples\n",
      "32/32 [==============================] - 0s 480us/sample - loss: 28445.8535 - accuracy: 0.2552\n",
      "Train on 32 samples\n",
      "32/32 [==============================] - 0s 386us/sample - loss: 25413.9531 - accuracy: 0.2335\n",
      "Train on 32 samples\n",
      "32/32 [==============================] - 0s 246us/sample - loss: 30728.9785 - accuracy: 0.2066\n",
      "Train on 32 samples\n",
      "32/32 [==============================] - 0s 288us/sample - loss: 26963.9980 - accuracy: 0.2569\n",
      "Train on 32 samples\n",
      "32/32 [==============================] - 0s 276us/sample - loss: 31239.2949 - accuracy: 0.2509\n",
      "Train on 32 samples\n",
      "32/32 [==============================] - 0s 297us/sample - loss: 25737.2285 - accuracy: 0.2309\n",
      "Train on 32 samples\n",
      "32/32 [==============================] - 0s 396us/sample - loss: 29500.2910 - accuracy: 0.2700\n",
      "Train on 32 samples\n",
      "32/32 [==============================] - 0s 260us/sample - loss: 25873.8770 - accuracy: 0.2491\n",
      "Train on 32 samples\n",
      "32/32 [==============================] - 0s 337us/sample - loss: 29098.0098 - accuracy: 0.2951\n",
      "Train on 32 samples\n",
      "32/32 [==============================] - 0s 399us/sample - loss: 25888.6250 - accuracy: 0.1979\n"
     ]
    }
   ],
   "source": [
    "for i in range(0,len(sample_x),32):\n",
    "    x = sample_x[i:i+32]\n",
    "    y = sample_y[i:i+32]\n",
    "    if len(y) == 32:\n",
    "        game.fit(x, y, batch_size=32)"
   ]
  },
  {
   "cell_type": "code",
   "execution_count": null,
   "metadata": {},
   "outputs": [],
   "source": [
    "game.fit(inputs,outputs)"
   ]
  },
  {
   "cell_type": "code",
   "execution_count": null,
   "metadata": {},
   "outputs": [],
   "source": [
    "outputs[30:32]"
   ]
  },
  {
   "cell_type": "code",
   "execution_count": 18,
   "metadata": {},
   "outputs": [
    {
     "data": {
      "text/plain": [
       "<tf.Tensor: id=5404, shape=(32, 6, 6), dtype=float32, numpy=\n",
       "array([[[1., 1., 1., 1., 1., 1.],\n",
       "        [1., 1., 1., 1., 1., 1.],\n",
       "        [1., 1., 1., 1., 1., 1.],\n",
       "        [1., 1., 1., 1., 1., 1.],\n",
       "        [1., 1., 1., 1., 1., 1.],\n",
       "        [1., 1., 1., 1., 1., 1.]],\n",
       "\n",
       "       [[1., 1., 1., 1., 1., 1.],\n",
       "        [1., 1., 1., 1., 1., 1.],\n",
       "        [1., 1., 1., 1., 1., 1.],\n",
       "        [1., 1., 1., 1., 1., 1.],\n",
       "        [1., 1., 1., 1., 1., 1.],\n",
       "        [1., 1., 1., 1., 1., 1.]],\n",
       "\n",
       "       [[1., 1., 1., 1., 1., 1.],\n",
       "        [1., 1., 1., 1., 1., 1.],\n",
       "        [1., 1., 1., 1., 1., 1.],\n",
       "        [1., 1., 1., 1., 1., 1.],\n",
       "        [1., 1., 1., 1., 1., 1.],\n",
       "        [1., 1., 1., 1., 1., 1.]],\n",
       "\n",
       "       ...,\n",
       "\n",
       "       [[1., 1., 1., 1., 1., 1.],\n",
       "        [1., 1., 1., 1., 1., 1.],\n",
       "        [1., 1., 1., 1., 1., 1.],\n",
       "        [1., 1., 1., 1., 1., 1.],\n",
       "        [1., 1., 1., 1., 1., 1.],\n",
       "        [1., 1., 1., 1., 1., 1.]],\n",
       "\n",
       "       [[1., 1., 1., 1., 1., 1.],\n",
       "        [1., 1., 1., 1., 1., 1.],\n",
       "        [1., 1., 1., 1., 1., 1.],\n",
       "        [1., 1., 1., 1., 1., 1.],\n",
       "        [1., 1., 1., 1., 1., 1.],\n",
       "        [1., 1., 1., 1., 1., 1.]],\n",
       "\n",
       "       [[1., 1., 1., 1., 1., 1.],\n",
       "        [1., 1., 1., 1., 1., 1.],\n",
       "        [1., 1., 1., 1., 1., 1.],\n",
       "        [1., 1., 1., 1., 1., 1.],\n",
       "        [1., 1., 1., 1., 1., 1.],\n",
       "        [1., 1., 1., 1., 1., 1.]]], dtype=float32)>"
      ]
     },
     "execution_count": 18,
     "metadata": {},
     "output_type": "execute_result"
    }
   ],
   "source": [
    "game.call(sample_y[30:62])"
   ]
  },
  {
   "cell_type": "code",
   "execution_count": null,
   "metadata": {},
   "outputs": [],
   "source": []
  }
 ],
 "metadata": {
  "kernelspec": {
   "display_name": "Python 3",
   "language": "python",
   "name": "python3"
  },
  "language_info": {
   "codemirror_mode": {
    "name": "ipython",
    "version": 3
   },
   "file_extension": ".py",
   "mimetype": "text/x-python",
   "name": "python",
   "nbconvert_exporter": "python",
   "pygments_lexer": "ipython3",
   "version": "3.7.6"
  }
 },
 "nbformat": 4,
 "nbformat_minor": 4
}
